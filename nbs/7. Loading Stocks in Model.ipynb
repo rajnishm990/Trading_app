{
 "cells": [
  {
   "cell_type": "code",
   "execution_count": 2,
   "id": "221fb26c-2d8b-454c-adfb-0ac09abb3b3c",
   "metadata": {},
   "outputs": [],
   "source": [
    "import setup\n",
    "setup.init_django()"
   ]
  },
  {
   "cell_type": "code",
   "execution_count": 5,
   "id": "5b8c32ea-7aa7-47f8-8733-96f88c4b50c5",
   "metadata": {},
   "outputs": [],
   "source": [
    "import helpers.clients as helpers"
   ]
  },
  {
   "cell_type": "code",
   "execution_count": 11,
   "id": "cc674d5c-447c-402f-9ea9-7c828916c321",
   "metadata": {},
   "outputs": [
    {
     "name": "stdout",
     "output_type": "stream",
     "text": [
      "r4ySupIR9_yGHg5XR1hgQeDJeqhJjk4H\n"
     ]
    }
   ],
   "source": [
    "from decouple import config\n",
    "key = config(\"POLYGON_API_KEY\", default=None , cast=str)\n",
    "print(key)"
   ]
  },
  {
   "cell_type": "code",
   "execution_count": 18,
   "id": "2dabc315-405f-4a92-a37d-d723e768a9f9",
   "metadata": {},
   "outputs": [],
   "source": [
    "company_name = \"Apple\"\n",
    "company_ticker = \"AAPL\"\n",
    "multiplier = 1\n",
    "from_date = \"2024-01-09\"\n",
    "to_date = \"2024-01-09\""
   ]
  },
  {
   "cell_type": "code",
   "execution_count": 19,
   "id": "51ddfcfd-b435-4fe6-98e7-58736d4b76d7",
   "metadata": {},
   "outputs": [],
   "source": [
    "client = helpers.PolygonAPIClient(\n",
    "    ticker=company_ticker,\n",
    "    multiplier=multiplier,\n",
    "    from_date=from_date,\n",
    "    to_date=to_date\n",
    ")\n",
    "dataset = client.get_stock_data()"
   ]
  },
  {
   "cell_type": "code",
   "execution_count": 20,
   "id": "184899ec-d9dc-4655-8e91-d1a78e875b94",
   "metadata": {},
   "outputs": [
    {
     "data": {
      "text/plain": [
       "{'open_price': 185.34,\n",
       " 'close_price': 185,\n",
       " 'high_price': 185.34,\n",
       " 'low_price': 184.97,\n",
       " 'number_of_trades': 106,\n",
       " 'volume': 1726,\n",
       " 'volume_weighted_average': 185.0991,\n",
       " 'time': datetime.datetime(2024, 1, 9, 9, 0, tzinfo=<UTC>)}"
      ]
     },
     "execution_count": 20,
     "metadata": {},
     "output_type": "execute_result"
    }
   ],
   "source": [
    "new_stock_data = dataset[0]\n",
    "new_stock_data"
   ]
  },
  {
   "cell_type": "code",
   "execution_count": 21,
   "id": "04483a4e-0912-4487-92ca-49fc46968c5d",
   "metadata": {},
   "outputs": [],
   "source": [
    "from market.models import Company , StockQuote"
   ]
  },
  {
   "cell_type": "code",
   "execution_count": 22,
   "id": "42b20b65-fb21-43d9-a1ca-5582541dc442",
   "metadata": {},
   "outputs": [],
   "source": [
    "obj , created = Company.objects.get_or_create(name=company_name, ticker=company_ticker)"
   ]
  },
  {
   "cell_type": "code",
   "execution_count": 23,
   "id": "541c1190-6534-4c08-aebd-bb2933c47f6d",
   "metadata": {},
   "outputs": [
    {
     "data": {
      "text/plain": [
       "<Company: Company object (1)>"
      ]
     },
     "execution_count": 23,
     "metadata": {},
     "output_type": "execute_result"
    }
   ],
   "source": [
    "obj"
   ]
  },
  {
   "cell_type": "code",
   "execution_count": 25,
   "id": "9fc1a79a-f6f8-46cf-ba00-2abaf1b64ef8",
   "metadata": {},
   "outputs": [
    {
     "data": {
      "text/plain": [
       "<StockQuote: StockQuote object (1)>"
      ]
     },
     "execution_count": 25,
     "metadata": {},
     "output_type": "execute_result"
    }
   ],
   "source": [
    "StockQuote.objects.create(company=obj, **new_stock_data)"
   ]
  },
  {
   "cell_type": "code",
   "execution_count": null,
   "id": "aff307bb-b400-4375-88c8-988ddb3a3db9",
   "metadata": {},
   "outputs": [],
   "source": [
    "##Bulk Update\n"
   ]
  }
 ],
 "metadata": {
  "kernelspec": {
   "display_name": "Python 3 (ipykernel)",
   "language": "python",
   "name": "python3"
  },
  "language_info": {
   "codemirror_mode": {
    "name": "ipython",
    "version": 3
   },
   "file_extension": ".py",
   "mimetype": "text/x-python",
   "name": "python",
   "nbconvert_exporter": "python",
   "pygments_lexer": "ipython3",
   "version": "3.12.8"
  }
 },
 "nbformat": 4,
 "nbformat_minor": 5
}
