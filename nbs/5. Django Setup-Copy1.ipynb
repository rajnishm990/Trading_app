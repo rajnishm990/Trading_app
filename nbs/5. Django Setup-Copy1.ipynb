{
 "cells": [
  {
   "cell_type": "code",
   "execution_count": 1,
   "id": "cf1e0f31-a9ad-449d-847b-438d6ea338a1",
   "metadata": {},
   "outputs": [],
   "source": [
    "import setup \n",
    "setup.init_django()"
   ]
  },
  {
   "cell_type": "code",
   "execution_count": 2,
   "id": "f7d9672f-f47c-4da7-b3e7-33506af8f3e0",
   "metadata": {},
   "outputs": [],
   "source": [
    "# checking for Django was properyly improted or not \n",
    "from django.conf import settings"
   ]
  },
  {
   "cell_type": "code",
   "execution_count": 3,
   "id": "920040f4-4afe-491d-809a-2aeae24430af",
   "metadata": {},
   "outputs": [
    {
     "data": {
      "text/plain": [
       "WindowsPath('C:/Users/rajni/OneDrive/Desktop/stock_trading_bot/src')"
      ]
     },
     "execution_count": 3,
     "metadata": {},
     "output_type": "execute_result"
    }
   ],
   "source": [
    "settings.BASE_DIR"
   ]
  },
  {
   "cell_type": "code",
   "execution_count": 4,
   "id": "70615095-5557-4da1-ae33-c9bb0b76043e",
   "metadata": {},
   "outputs": [],
   "source": [
    "from django.contrib.auth import get_user_model\n",
    "User = get_user_model()"
   ]
  },
  {
   "cell_type": "code",
   "execution_count": 5,
   "id": "8397d942-9a6f-46d7-9889-7e190943a557",
   "metadata": {},
   "outputs": [
    {
     "data": {
      "text/plain": [
       "<QuerySet [<User: rajnishm990>]>"
      ]
     },
     "execution_count": 5,
     "metadata": {},
     "output_type": "execute_result"
    }
   ],
   "source": [
    "User.objects.all()"
   ]
  },
  {
   "cell_type": "code",
   "execution_count": null,
   "id": "7b75ac41-3bcc-444c-b662-47c4b64cd284",
   "metadata": {},
   "outputs": [],
   "source": []
  }
 ],
 "metadata": {
  "kernelspec": {
   "display_name": "Python 3 (ipykernel)",
   "language": "python",
   "name": "python3"
  },
  "language_info": {
   "codemirror_mode": {
    "name": "ipython",
    "version": 3
   },
   "file_extension": ".py",
   "mimetype": "text/x-python",
   "name": "python",
   "nbconvert_exporter": "python",
   "pygments_lexer": "ipython3",
   "version": "3.12.8"
  }
 },
 "nbformat": 4,
 "nbformat_minor": 5
}
