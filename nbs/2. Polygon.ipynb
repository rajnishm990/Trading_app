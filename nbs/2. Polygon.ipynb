{
 "cells": [
  {
   "cell_type": "code",
   "execution_count": 1,
   "id": "f58528f3-9df4-4172-8298-697bb8b3200c",
   "metadata": {},
   "outputs": [],
   "source": [
    "from decouple import config"
   ]
  },
  {
   "cell_type": "code",
   "execution_count": 2,
   "id": "abf74914-b3fb-4898-9c78-35d1da6aad5b",
   "metadata": {},
   "outputs": [],
   "source": [
    "assert config(\"POLYGON_API_KEY\", default = None , cast=str )  is not None"
   ]
  },
  {
   "cell_type": "code",
   "execution_count": 3,
   "id": "2cd96b3e-25fa-4313-ba9f-cdee7dd62076",
   "metadata": {},
   "outputs": [
    {
     "name": "stdout",
     "output_type": "stream",
     "text": [
      "r4ySupIR9_yGHg5XR1hgQeDJeqhJjk4H\n"
     ]
    }
   ],
   "source": [
    "POLYGON_API_KEY = config(\"POLYGON_API_KEY\", default=None , cast = str)\n",
    "print(POLYGON_API_KEY)"
   ]
  },
  {
   "cell_type": "code",
   "execution_count": 4,
   "id": "aa1fc3f7-c2f2-4a98-937c-c2dda284fe0c",
   "metadata": {},
   "outputs": [],
   "source": [
    "import requests\n",
    "url = f\"https://api.polygon.io/v2/aggs/ticker/AAPL/range/1/day/2024-01-09/2024-01-09?apiKey={POLYGON_API_KEY}\"\n",
    "response = requests.get(url)"
   ]
  },
  {
   "cell_type": "code",
   "execution_count": 11,
   "id": "ef553032-7600-479c-b733-3f6abd2c13cb",
   "metadata": {},
   "outputs": [
    {
     "data": {
      "text/plain": [
       "[{'v': 42841809.0,\n",
       "  'vw': 184.3706,\n",
       "  'o': 183.92,\n",
       "  'c': 185.14,\n",
       "  'h': 185.15,\n",
       "  'l': 182.73,\n",
       "  't': 1704776400000,\n",
       "  'n': 538180}]"
      ]
     },
     "execution_count": 11,
     "metadata": {},
     "output_type": "execute_result"
    }
   ],
   "source": [
    "response.json()['results']"
   ]
  },
  {
   "cell_type": "code",
   "execution_count": 7,
   "id": "a81cfb55-cfa6-4435-a3b6-6f66bab64e67",
   "metadata": {},
   "outputs": [],
   "source": [
    "## Transforming the polygon response to our desired data type i.e Dict . We can use pydantic , Serilizers , Class etc too \n",
    "import pytz\n",
    "from datetime import datetime\n",
    "\n",
    "def transform_polygon_result(result):\n",
    "    unix_timestamp = result.get('t') / 1000.0\n",
    "    utc_timestamp = datetime.fromtimestamp(unix_timestamp, tz=pytz.timezone('UTC'))\n",
    "    return {\n",
    "        'open_price': result['o'],\n",
    "        'close_price': result['c'],\n",
    "        'high_price': result['h'],\n",
    "        'low_price': result['l'],\n",
    "        'number_of_trades': result['n'],\n",
    "        'volume': result['v'],\n",
    "        'volume_weighted_average': result['vw'],\n",
    "        'time': utc_timestamp,\n",
    "    }"
   ]
  },
  {
   "cell_type": "code",
   "execution_count": 12,
   "id": "f4472bfb-cd97-411d-a169-5c96bc17c708",
   "metadata": {},
   "outputs": [
    {
     "name": "stdout",
     "output_type": "stream",
     "text": [
      "{'open_price': 183.92, 'close_price': 185.14, 'high_price': 185.15, 'low_price': 182.73, 'number_of_trades': 538180, 'volume': 42841809.0, 'volume_weighted_average': 184.3706, 'time': datetime.datetime(2024, 1, 9, 5, 0, tzinfo=<UTC>)}\n"
     ]
    }
   ],
   "source": [
    "print(transform_polygon_result(response.json()['results'][0]))"
   ]
  },
  {
   "cell_type": "code",
   "execution_count": null,
   "id": "77acbc84-f960-42fe-aa4a-023dea07d375",
   "metadata": {},
   "outputs": [],
   "source": []
  }
 ],
 "metadata": {
  "kernelspec": {
   "display_name": "Python 3 (ipykernel)",
   "language": "python",
   "name": "python3"
  },
  "language_info": {
   "codemirror_mode": {
    "name": "ipython",
    "version": 3
   },
   "file_extension": ".py",
   "mimetype": "text/x-python",
   "name": "python",
   "nbconvert_exporter": "python",
   "pygments_lexer": "ipython3",
   "version": "3.12.8"
  }
 },
 "nbformat": 4,
 "nbformat_minor": 5
}
